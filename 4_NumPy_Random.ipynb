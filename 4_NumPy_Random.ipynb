{
 "cells": [
  {
   "cell_type": "markdown",
   "id": "2b6e0693-6289-42f8-9798-06149126c893",
   "metadata": {},
   "source": [
    "# Random"
   ]
  },
  {
   "cell_type": "code",
   "execution_count": 1,
   "id": "be23314a-cfdf-4996-8583-3ea21e445a49",
   "metadata": {},
   "outputs": [],
   "source": [
    "import numpy as np"
   ]
  },
  {
   "cell_type": "markdown",
   "id": "ec5ea291-4cf0-4255-a365-c2d46ad22a9e",
   "metadata": {},
   "source": [
    "# Rand()"
   ]
  },
  {
   "cell_type": "code",
   "execution_count": 2,
   "id": "b66f8086-8dec-4aea-adce-23aafcffab4a",
   "metadata": {},
   "outputs": [
    {
     "name": "stdout",
     "output_type": "stream",
     "text": [
      "[0.82936749 0.63865423 0.82369451 0.74070254 0.70098971 0.16355819\n",
      " 0.98810858 0.45009491]\n"
     ]
    }
   ],
   "source": [
    "var=np.random.rand(8)\n",
    "print(var)"
   ]
  },
  {
   "cell_type": "code",
   "execution_count": 3,
   "id": "a99f2b39-423f-4ffb-8fa5-3707010dbf66",
   "metadata": {},
   "outputs": [
    {
     "name": "stdout",
     "output_type": "stream",
     "text": [
      "[[0.84087666 0.40372805 0.79806507 0.88535504]\n",
      " [0.05948268 0.00871524 0.95778584 0.38483991]\n",
      " [0.23656703 0.14612654 0.13132266 0.9970257 ]\n",
      " [0.75961131 0.62109527 0.22531954 0.60782901]]\n"
     ]
    }
   ],
   "source": [
    "var=np.random.rand(4,4)\n",
    "print(var)"
   ]
  },
  {
   "cell_type": "markdown",
   "id": "f9b7091d-f3af-4db2-aa25-4ccf9a34b5b2",
   "metadata": {},
   "source": [
    "# Randn()"
   ]
  },
  {
   "cell_type": "code",
   "execution_count": 4,
   "id": "6a865fa0-4068-4e32-818e-4779f2a7e82c",
   "metadata": {},
   "outputs": [
    {
     "name": "stdout",
     "output_type": "stream",
     "text": [
      "[-0.73817769  0.24786241 -0.90968183 -0.6837235   0.2863268 ]\n"
     ]
    }
   ],
   "source": [
    "var1=np.random.randn(5)\n",
    "print(var1)"
   ]
  },
  {
   "cell_type": "markdown",
   "id": "b8f12ca2-eebe-494b-a3f0-4d3f7e670ede",
   "metadata": {},
   "source": [
    "# Ranf()"
   ]
  },
  {
   "cell_type": "code",
   "execution_count": 7,
   "id": "d8d99d95-f78b-4995-93ba-bc12b79a0061",
   "metadata": {},
   "outputs": [
    {
     "name": "stdout",
     "output_type": "stream",
     "text": [
      "[0.98254631 0.0778564  0.87229892 0.28095572 0.08699816]\n"
     ]
    }
   ],
   "source": [
    "var2=np.random.ranf(5)\n",
    "print(var2)"
   ]
  },
  {
   "cell_type": "markdown",
   "id": "fe001c98-7f65-4e02-b3a5-7b82dde66466",
   "metadata": {},
   "source": [
    "# RandInt()"
   ]
  },
  {
   "cell_type": "code",
   "execution_count": 8,
   "id": "7139dddb-9caf-4397-808f-f978ba29c92c",
   "metadata": {},
   "outputs": [
    {
     "name": "stdout",
     "output_type": "stream",
     "text": [
      "[10  5 14 11  7]\n"
     ]
    }
   ],
   "source": [
    "var3=np.random.randint(1,20,5)\n",
    "print(var3)"
   ]
  },
  {
   "cell_type": "markdown",
   "id": "00d30887-27e2-431e-a0e9-cf055d3c3803",
   "metadata": {},
   "source": [
    "# Choice()"
   ]
  },
  {
   "cell_type": "code",
   "execution_count": 11,
   "id": "08cd1d9e-5b4b-46a2-b475-23bca36467fa",
   "metadata": {},
   "outputs": [
    {
     "name": "stdout",
     "output_type": "stream",
     "text": [
      "Ali\n"
     ]
    }
   ],
   "source": [
    "var4=np.random.choice([\"Ali\",\"Ahmed\",\"Noman\",\"sawban\",\"Ammar\"])\n",
    "print(var4)"
   ]
  },
  {
   "cell_type": "code",
   "execution_count": null,
   "id": "1e051e40-5c6c-48ff-afef-f0470b5ecd2f",
   "metadata": {},
   "outputs": [],
   "source": []
  }
 ],
 "metadata": {
  "kernelspec": {
   "display_name": "Python 3 (ipykernel)",
   "language": "python",
   "name": "python3"
  },
  "language_info": {
   "codemirror_mode": {
    "name": "ipython",
    "version": 3
   },
   "file_extension": ".py",
   "mimetype": "text/x-python",
   "name": "python",
   "nbconvert_exporter": "python",
   "pygments_lexer": "ipython3",
   "version": "3.13.0"
  }
 },
 "nbformat": 4,
 "nbformat_minor": 5
}
