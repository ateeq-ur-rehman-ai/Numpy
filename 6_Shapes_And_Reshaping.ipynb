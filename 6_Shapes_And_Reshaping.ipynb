{
 "cells": [
  {
   "cell_type": "markdown",
   "id": "3f85893b-e5ae-4c73-b320-f04887e5dd29",
   "metadata": {},
   "source": [
    "# Shape"
   ]
  },
  {
   "cell_type": "markdown",
   "id": "0d0dd3ac-2511-4d88-bf85-e434807b6843",
   "metadata": {},
   "source": [
    "# The shape of an array is the number of elements in each dimension.\n",
    "\n"
   ]
  },
  {
   "cell_type": "code",
   "execution_count": 1,
   "id": "ef5e765f-6c75-4fe8-9b3b-8bd4de8767e4",
   "metadata": {},
   "outputs": [],
   "source": [
    "import numpy as np"
   ]
  },
  {
   "cell_type": "code",
   "execution_count": 5,
   "id": "28a5793d-70f0-4071-b191-86a191483a44",
   "metadata": {},
   "outputs": [
    {
     "name": "stdout",
     "output_type": "stream",
     "text": [
      "[[1 2 3 4]\n",
      " [5 6 7 8]]\n",
      "(2, 4)\n"
     ]
    }
   ],
   "source": [
    "var=np.array([[1,2,3,4],[5,6,7,8]])\n",
    "print(var)\n",
    "print(var.shape)"
   ]
  },
  {
   "cell_type": "code",
   "execution_count": 7,
   "id": "55cacc09-2e0b-4cac-b35b-b74ca41ea838",
   "metadata": {},
   "outputs": [
    {
     "name": "stdout",
     "output_type": "stream",
     "text": [
      "[[[[[1 2 3 4]]]]]\n",
      "(1, 1, 1, 1, 4)\n",
      "5\n"
     ]
    }
   ],
   "source": [
    "var=np.array([1,2,3,4],ndmin=5)\n",
    "print(var)\n",
    "print(var.shape)\n",
    "print(var.ndim)"
   ]
  },
  {
   "cell_type": "markdown",
   "id": "41a9d48f-0b1f-431a-88e9-5aad84394126",
   "metadata": {},
   "source": [
    "# Reshaping"
   ]
  },
  {
   "cell_type": "code",
   "execution_count": 9,
   "id": "8b9d79bc-3cfe-4546-a94e-14816e136a82",
   "metadata": {},
   "outputs": [
    {
     "name": "stdout",
     "output_type": "stream",
     "text": [
      "[[1 2]\n",
      " [3 4]\n",
      " [5 6]]\n"
     ]
    }
   ],
   "source": [
    "var = np.array([1, 2, 3, 4, 5, 6])\n",
    "new_var = var.reshape(3,2)\n",
    "\n",
    "print(new_var)"
   ]
  },
  {
   "cell_type": "code",
   "execution_count": 10,
   "id": "793b3d7c-1d02-4cc6-b6c5-d94d523c5047",
   "metadata": {},
   "outputs": [
    {
     "name": "stdout",
     "output_type": "stream",
     "text": [
      "[[ 1  2  3]\n",
      " [ 4  5  6]\n",
      " [ 7  8  9]\n",
      " [10 11 12]]\n"
     ]
    }
   ],
   "source": [
    "var1 = np.array([1, 2, 3, 4, 5, 6, 7, 8, 9, 10, 11, 12])\n",
    "\n",
    "new_var1 = var1.reshape(4, 3)\n",
    "\n",
    "print(new_var1)"
   ]
  },
  {
   "cell_type": "code",
   "execution_count": 14,
   "id": "d29c6438-30dc-4a1d-ac78-ac9e78fe25ea",
   "metadata": {},
   "outputs": [
    {
     "name": "stdout",
     "output_type": "stream",
     "text": [
      "[ 1  2  3  4  5  6  7  8  9 10 11 12]\n",
      "1\n",
      "----------\n",
      "[[ 1  2  3]\n",
      " [ 4  5  6]\n",
      " [ 7  8  9]\n",
      " [10 11 12]]\n",
      "2\n",
      "----------\n",
      "[ 1  2  3  4  5  6  7  8  9 10 11 12]\n",
      "1\n"
     ]
    }
   ],
   "source": [
    "a = np.array([1, 2, 3, 4, 5, 6, 7, 8, 9, 10, 11, 12])\n",
    "print(a)\n",
    "print(a.ndim)\n",
    "print(\"-\"*10)\n",
    "a1= a.reshape(4, 3)\n",
    "print(a1)\n",
    "print(a1.ndim)\n",
    "print(\"-\"*10)\n",
    "a2=a1.reshape(-1)\n",
    "print(a2)\n",
    "print(a2.ndim)"
   ]
  },
  {
   "cell_type": "code",
   "execution_count": null,
   "id": "e2119729-0359-4384-ad38-6682f28e49d6",
   "metadata": {},
   "outputs": [],
   "source": []
  }
 ],
 "metadata": {
  "kernelspec": {
   "display_name": "Python 3 (ipykernel)",
   "language": "python",
   "name": "python3"
  },
  "language_info": {
   "codemirror_mode": {
    "name": "ipython",
    "version": 3
   },
   "file_extension": ".py",
   "mimetype": "text/x-python",
   "name": "python",
   "nbconvert_exporter": "python",
   "pygments_lexer": "ipython3",
   "version": "3.13.0"
  }
 },
 "nbformat": 4,
 "nbformat_minor": 5
}
