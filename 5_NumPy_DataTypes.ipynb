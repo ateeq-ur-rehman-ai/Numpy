{
 "cells": [
  {
   "cell_type": "markdown",
   "id": "f233caab-c978-4ba9-86c2-b6f2ac181cdc",
   "metadata": {},
   "source": [
    "# Data Types"
   ]
  },
  {
   "cell_type": "code",
   "execution_count": 1,
   "id": "77960938-7bc8-440b-a052-339e3f2698e0",
   "metadata": {},
   "outputs": [],
   "source": [
    "import numpy as np"
   ]
  },
  {
   "cell_type": "code",
   "execution_count": 8,
   "id": "e856182b-8292-450b-875f-4a90d831ff19",
   "metadata": {},
   "outputs": [],
   "source": [
    "var=np.array([1,334,52,24,5,3])"
   ]
  },
  {
   "cell_type": "code",
   "execution_count": 9,
   "id": "cbb5f3d6-353a-4a52-ad48-be41024ccc03",
   "metadata": {},
   "outputs": [
    {
     "name": "stdout",
     "output_type": "stream",
     "text": [
      "int64\n"
     ]
    }
   ],
   "source": [
    "print(var.dtype)"
   ]
  },
  {
   "cell_type": "code",
   "execution_count": 10,
   "id": "ad17844a-52be-41e5-a89a-f20f37a65911",
   "metadata": {},
   "outputs": [
    {
     "name": "stdout",
     "output_type": "stream",
     "text": [
      "float64\n"
     ]
    }
   ],
   "source": [
    "var=np.array([1.23,2.4,2.0])\n",
    "print(var.dtype)"
   ]
  },
  {
   "cell_type": "code",
   "execution_count": 11,
   "id": "a3a23e4d-ec10-46fe-afba-742621b8fccd",
   "metadata": {},
   "outputs": [
    {
     "name": "stdout",
     "output_type": "stream",
     "text": [
      "<U1\n"
     ]
    }
   ],
   "source": [
    "var=np.array([\"A\",\"V\",\"E\"])\n",
    "print(var.dtype)"
   ]
  },
  {
   "cell_type": "code",
   "execution_count": 13,
   "id": "c10cbdd6-3d5e-451c-917d-a2d6d6369a38",
   "metadata": {},
   "outputs": [
    {
     "name": "stdout",
     "output_type": "stream",
     "text": [
      "<U21\n"
     ]
    }
   ],
   "source": [
    "var=np.array([\"A\",\"V\",\"E\",2,2,6])\n",
    "print(var.dtype)"
   ]
  },
  {
   "cell_type": "code",
   "execution_count": 14,
   "id": "eef0ae08-94bb-48b7-85fc-f5781b0dc250",
   "metadata": {},
   "outputs": [
    {
     "name": "stdout",
     "output_type": "stream",
     "text": [
      "<U6\n"
     ]
    }
   ],
   "source": [
    "var=np.array([\"Apple\",\"banana\",\"Grapes\"])\n",
    "print(var.dtype)"
   ]
  },
  {
   "cell_type": "code",
   "execution_count": 17,
   "id": "ca9dbc8b-d881-45d2-aa3d-772e47ec9a58",
   "metadata": {},
   "outputs": [
    {
     "name": "stdout",
     "output_type": "stream",
     "text": [
      "int8\n"
     ]
    }
   ],
   "source": [
    "a=np.array([1,2,3,4,5],dtype=np.int8)\n",
    "print(a.dtype)"
   ]
  },
  {
   "cell_type": "code",
   "execution_count": 20,
   "id": "a1f51bfe-8267-444a-91ad-876096c15a62",
   "metadata": {},
   "outputs": [
    {
     "name": "stdout",
     "output_type": "stream",
     "text": [
      "float32\n",
      "[1. 2. 3. 4. 5.]\n"
     ]
    }
   ],
   "source": [
    "a=np.array([1,2,3,4,5],dtype=\"f\")\n",
    "print(a.dtype)\n",
    "print(a)"
   ]
  },
  {
   "cell_type": "code",
   "execution_count": 22,
   "id": "59a385cb-0e25-4545-afdb-52cfe0e71d49",
   "metadata": {},
   "outputs": [
    {
     "name": "stdout",
     "output_type": "stream",
     "text": [
      "Data Type:  <U6\n",
      "Data Type:  float16\n",
      "Data Type:  int64\n",
      "[1 2 3 4]\n",
      "[1. 2. 3. 4.]\n",
      "[1 2 3 4]\n"
     ]
    }
   ],
   "source": [
    "var1=np.array([1,2,3,4])\n",
    "new_var=np.float16(var1)\n",
    "new1_var=np.int_(new_var)\n",
    "\n",
    "print(\"Data Type: \",var.dtype)\n",
    "print(\"Data Type: \",new_var.dtype)\n",
    "print(\"Data Type: \",new1_var.dtype)\n",
    "\n",
    "print(var1)\n",
    "print(new_var)\n",
    "print(new1_var)"
   ]
  },
  {
   "cell_type": "code",
   "execution_count": 23,
   "id": "6e233810-e743-4872-8e2e-8ca8e6e8a1ef",
   "metadata": {},
   "outputs": [
    {
     "name": "stdout",
     "output_type": "stream",
     "text": [
      "[1 2 3 4 5]\n",
      "[1. 2. 3. 4. 5.]\n"
     ]
    }
   ],
   "source": [
    "x=np.array([1,2,3,4,5])\n",
    "x1=x.astype(float)\n",
    "print(x)\n",
    "print(x1)"
   ]
  },
  {
   "cell_type": "code",
   "execution_count": null,
   "id": "4ccfdb73-695d-4e91-9aae-c886a6d5db04",
   "metadata": {},
   "outputs": [],
   "source": []
  }
 ],
 "metadata": {
  "kernelspec": {
   "display_name": "Python 3 (ipykernel)",
   "language": "python",
   "name": "python3"
  },
  "language_info": {
   "codemirror_mode": {
    "name": "ipython",
    "version": 3
   },
   "file_extension": ".py",
   "mimetype": "text/x-python",
   "name": "python",
   "nbconvert_exporter": "python",
   "pygments_lexer": "ipython3",
   "version": "3.13.0"
  }
 },
 "nbformat": 4,
 "nbformat_minor": 5
}
