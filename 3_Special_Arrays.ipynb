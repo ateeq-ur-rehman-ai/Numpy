{
 "cells": [
  {
   "cell_type": "markdown",
   "id": "8bd9c395-103d-493a-bdbf-bc8830fa69b5",
   "metadata": {},
   "source": [
    "# Special Arrays"
   ]
  },
  {
   "cell_type": "markdown",
   "id": "285cace4-69af-4a50-a6e4-520e26901895",
   "metadata": {},
   "source": [
    "# Zero"
   ]
  },
  {
   "cell_type": "code",
   "execution_count": 2,
   "id": "8efcc8dc-e00d-4f3c-be00-fd615dca5104",
   "metadata": {},
   "outputs": [],
   "source": [
    "import numpy as np"
   ]
  },
  {
   "cell_type": "code",
   "execution_count": 3,
   "id": "51a0701d-2da5-4bc8-be80-d09ffe0c8a7c",
   "metadata": {},
   "outputs": [
    {
     "name": "stdout",
     "output_type": "stream",
     "text": [
      "[0. 0. 0.]\n"
     ]
    }
   ],
   "source": [
    "arr_zero=np.zeros(3)\n",
    "print(arr_zero)"
   ]
  },
  {
   "cell_type": "code",
   "execution_count": 5,
   "id": "a9ffb5ec-2693-4142-8d05-a305ce93023c",
   "metadata": {},
   "outputs": [
    {
     "name": "stdout",
     "output_type": "stream",
     "text": [
      "[[0. 0. 0.]\n",
      " [0. 0. 0.]\n",
      " [0. 0. 0.]]\n"
     ]
    }
   ],
   "source": [
    "arr_zero=np.zeros((3,3))\n",
    "print(arr_zero)"
   ]
  },
  {
   "cell_type": "markdown",
   "id": "49b0bf99-f67f-4ba5-a03a-bea5f657c368",
   "metadata": {},
   "source": [
    "# Ones "
   ]
  },
  {
   "cell_type": "code",
   "execution_count": 6,
   "id": "dca28a31-a2e6-4861-883d-b528cef9df42",
   "metadata": {},
   "outputs": [
    {
     "name": "stdout",
     "output_type": "stream",
     "text": [
      "[1. 1. 1. 1. 1.]\n"
     ]
    }
   ],
   "source": [
    "arr_ones=np.ones(5)\n",
    "print(arr_ones)"
   ]
  },
  {
   "cell_type": "code",
   "execution_count": 8,
   "id": "7695c86c-9e43-447b-92fa-bd42c3088054",
   "metadata": {},
   "outputs": [
    {
     "name": "stdout",
     "output_type": "stream",
     "text": [
      "[[1. 1. 1. 1.]\n",
      " [1. 1. 1. 1.]\n",
      " [1. 1. 1. 1.]]\n"
     ]
    }
   ],
   "source": [
    "arr_ones=np.ones((3,4))\n",
    "print(arr_ones)"
   ]
  },
  {
   "cell_type": "markdown",
   "id": "50fa9087-952b-46ca-a1b1-1999bf79dda5",
   "metadata": {},
   "source": [
    "# Range"
   ]
  },
  {
   "cell_type": "code",
   "execution_count": 9,
   "id": "33fd6285-374b-4917-b7c7-e211166a435c",
   "metadata": {},
   "outputs": [
    {
     "name": "stdout",
     "output_type": "stream",
     "text": [
      "[0 1 2 3 4]\n"
     ]
    }
   ],
   "source": [
    "arr_range=np.arange(5)\n",
    "print(arr_range)"
   ]
  },
  {
   "cell_type": "markdown",
   "id": "16b6479b-217d-4092-9c85-5d77c0a78881",
   "metadata": {},
   "source": [
    "# Diagonal"
   ]
  },
  {
   "cell_type": "code",
   "execution_count": 11,
   "id": "080044f4-7543-4d80-a191-e31476cc298a",
   "metadata": {},
   "outputs": [
    {
     "name": "stdout",
     "output_type": "stream",
     "text": [
      "[[1. 0. 0.]\n",
      " [0. 1. 0.]\n",
      " [0. 0. 1.]]\n"
     ]
    }
   ],
   "source": [
    "arr_diagonal=np.eye(3)\n",
    "print(arr_diagonal)"
   ]
  },
  {
   "cell_type": "code",
   "execution_count": 13,
   "id": "0525274b-d526-4d53-90a9-4f6c67abdccd",
   "metadata": {},
   "outputs": [
    {
     "name": "stdout",
     "output_type": "stream",
     "text": [
      "[[1. 0. 0. 0. 0. 0.]\n",
      " [0. 1. 0. 0. 0. 0.]\n",
      " [0. 0. 1. 0. 0. 0.]]\n"
     ]
    }
   ],
   "source": [
    "arr_diagonal=np.eye(3,6)\n",
    "print(arr_diagonal)"
   ]
  },
  {
   "cell_type": "markdown",
   "id": "c1570034-2884-41ea-ad2e-5501f91c7193",
   "metadata": {},
   "source": [
    "# Linspace"
   ]
  },
  {
   "cell_type": "code",
   "execution_count": 14,
   "id": "75ba633d-07cb-4459-89e9-a4a25972172c",
   "metadata": {},
   "outputs": [
    {
     "name": "stdout",
     "output_type": "stream",
     "text": [
      "[ 0.  5. 10. 15. 20.]\n"
     ]
    }
   ],
   "source": [
    "arr_linspace=np.linspace(0,20,num=5)\n",
    "print(arr_linspace)"
   ]
  },
  {
   "cell_type": "code",
   "execution_count": null,
   "id": "9ed4d1f0-5156-4366-80b7-6f655f5df5a4",
   "metadata": {},
   "outputs": [],
   "source": [
    " "
   ]
  }
 ],
 "metadata": {
  "kernelspec": {
   "display_name": "Python 3 (ipykernel)",
   "language": "python",
   "name": "python3"
  },
  "language_info": {
   "codemirror_mode": {
    "name": "ipython",
    "version": 3
   },
   "file_extension": ".py",
   "mimetype": "text/x-python",
   "name": "python",
   "nbconvert_exporter": "python",
   "pygments_lexer": "ipython3",
   "version": "3.13.0"
  }
 },
 "nbformat": 4,
 "nbformat_minor": 5
}
