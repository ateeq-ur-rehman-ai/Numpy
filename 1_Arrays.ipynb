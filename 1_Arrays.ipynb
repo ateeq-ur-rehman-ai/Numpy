{
 "cells": [
  {
   "cell_type": "markdown",
   "id": "f10ca9be-3902-4245-bacc-e41fee9c6ec7",
   "metadata": {},
   "source": [
    "# Arrays"
   ]
  },
  {
   "cell_type": "markdown",
   "id": "86e0bfc8-0ff9-42e8-b6c2-f6de485eb9f0",
   "metadata": {},
   "source": [
    "# NumPy is used to work with arrays. The array object in NumPy is called ndarray.\n",
    "# We can create a NumPy ndarray object by using the array() function."
   ]
  },
  {
   "cell_type": "code",
   "execution_count": 1,
   "id": "2d5c8cb2-15c5-4b56-8415-2800c24f57a9",
   "metadata": {},
   "outputs": [],
   "source": [
    "import numpy as np"
   ]
  },
  {
   "cell_type": "markdown",
   "id": "04329a18-ef60-4781-b471-7a11978dca6a",
   "metadata": {},
   "source": [
    "# Types Of Arrays "
   ]
  },
  {
   "cell_type": "markdown",
   "id": "3655416a-0605-4f92-89c0-9a2e3ac4cecf",
   "metadata": {},
   "source": [
    "# 1D Array"
   ]
  },
  {
   "cell_type": "code",
   "execution_count": 9,
   "id": "17248947-5f5e-4238-8504-ad6b310f46a1",
   "metadata": {},
   "outputs": [
    {
     "name": "stdout",
     "output_type": "stream",
     "text": [
      "[1 2 3 4 5]\n"
     ]
    }
   ],
   "source": [
    "arr=np.array([1,2,3,4,5])\n",
    "print(arr)"
   ]
  },
  {
   "cell_type": "markdown",
   "id": "811a8316-a94b-4ff8-96c3-90ae54d83987",
   "metadata": {},
   "source": [
    "# 2D Array"
   ]
  },
  {
   "cell_type": "code",
   "execution_count": 2,
   "id": "b0cb66e9-c6f4-4081-8acd-a4b7d5527162",
   "metadata": {},
   "outputs": [
    {
     "name": "stdout",
     "output_type": "stream",
     "text": [
      "[[1 2 3]\n",
      " [4 5 6]]\n"
     ]
    }
   ],
   "source": [
    "arr = np.array([[1,2,3],[4,5,6]])\n",
    "print(arr)"
   ]
  },
  {
   "cell_type": "markdown",
   "id": "fcd0179c-9fd5-41ef-9a93-e418152fd49b",
   "metadata": {},
   "source": [
    "# 3D Array"
   ]
  },
  {
   "cell_type": "code",
   "execution_count": 3,
   "id": "4e07bdf6-4394-4fce-9b29-0dab9b7f79c5",
   "metadata": {},
   "outputs": [
    {
     "name": "stdout",
     "output_type": "stream",
     "text": [
      "[[[1 2 3]\n",
      "  [4 5 6]\n",
      "  [7 8 9]\n",
      "  [1 2 4]]]\n"
     ]
    }
   ],
   "source": [
    "arr1 = np.array([[[1,2,3],[4,5,6],[7,8,9],[1,2,4]]])\n",
    "print(arr1)"
   ]
  },
  {
   "cell_type": "markdown",
   "id": "1a4537fe-929d-4581-81e8-a3d2968062cc",
   "metadata": {},
   "source": [
    "# Dimension\n",
    "# NumPy Arrays provides the ndim attribute that returns an integer that tells us how many dimensions the array have."
   ]
  },
  {
   "cell_type": "code",
   "execution_count": 4,
   "id": "d7942344-b2e9-44c8-8f4f-9cbd7c2af771",
   "metadata": {},
   "outputs": [
    {
     "name": "stdout",
     "output_type": "stream",
     "text": [
      "0\n",
      "1\n",
      "2\n",
      "3\n"
     ]
    }
   ],
   "source": [
    "a = np.array(42)\n",
    "b = np.array([1, 2, 3, 4, 5])\n",
    "c = np.array([[1, 2, 3], [4, 5, 6]])\n",
    "d = np.array([[[1, 2, 3], [4, 5, 6]], [[1, 2, 3], [4, 5, 6]]])\n",
    "\n",
    "print(a.ndim)\n",
    "print(b.ndim)\n",
    "print(c.ndim)\n",
    "print(d.ndim)"
   ]
  },
  {
   "cell_type": "code",
   "execution_count": 5,
   "id": "58536551-f4ea-4dbd-9100-22c1977f8314",
   "metadata": {},
   "outputs": [
    {
     "name": "stdout",
     "output_type": "stream",
     "text": [
      "42\n",
      "[1 2 3 4 5]\n",
      "[[1 2 3]\n",
      " [4 5 6]]\n",
      "[[[1 2 3]\n",
      "  [4 5 6]]\n",
      "\n",
      " [[1 2 3]\n",
      "  [4 5 6]]]\n"
     ]
    }
   ],
   "source": [
    "a = np.array(42)\n",
    "b = np.array([1, 2, 3, 4, 5])\n",
    "c = np.array([[1, 2, 3], [4, 5, 6]])\n",
    "d = np.array([[[1, 2, 3], [4, 5, 6]], [[1, 2, 3], [4, 5, 6]]])\n",
    "\n",
    "print(a)\n",
    "print(b)\n",
    "print(c)\n",
    "print(d)"
   ]
  },
  {
   "cell_type": "code",
   "execution_count": 6,
   "id": "9ab110a6-f55d-40bf-aa20-f7816d90ad91",
   "metadata": {},
   "outputs": [
    {
     "name": "stdin",
     "output_type": "stream",
     "text": [
      "Enter Value:  24\n",
      "Enter Value:  24\n",
      "Enter Value:  15\n",
      "Enter Value:  17\n",
      "Enter Value:  83\n"
     ]
    },
    {
     "name": "stdout",
     "output_type": "stream",
     "text": [
      "[24 24 15 17 83]\n"
     ]
    }
   ],
   "source": [
    "a=[]\n",
    "for i in range(1,6):\n",
    "    b=int(input(\"Enter Value: \"))\n",
    "    a.append(b)\n",
    "print(np.array(a))"
   ]
  },
  {
   "cell_type": "code",
   "execution_count": 12,
   "id": "5422d95b-bbb2-4627-840a-0a46d5f6b04f",
   "metadata": {},
   "outputs": [
    {
     "name": "stdout",
     "output_type": "stream",
     "text": [
      "[[[[[[[[[[[[[[[1 2 3 4]]]]]]]]]]]]]]]\n",
      "15\n"
     ]
    }
   ],
   "source": [
    "arr2=np.array([1,2,3,4],ndmin=15)\n",
    "print(arr2)\n",
    "print(arr2.ndim)"
   ]
  },
  {
   "cell_type": "code",
   "execution_count": null,
   "id": "160b062a-9ec3-471a-910f-ae9c0bc4da83",
   "metadata": {},
   "outputs": [],
   "source": []
  }
 ],
 "metadata": {
  "kernelspec": {
   "display_name": "Python 3 (ipykernel)",
   "language": "python",
   "name": "python3"
  },
  "language_info": {
   "codemirror_mode": {
    "name": "ipython",
    "version": 3
   },
   "file_extension": ".py",
   "mimetype": "text/x-python",
   "name": "python",
   "nbconvert_exporter": "python",
   "pygments_lexer": "ipython3",
   "version": "3.13.0"
  }
 },
 "nbformat": 4,
 "nbformat_minor": 5
}
