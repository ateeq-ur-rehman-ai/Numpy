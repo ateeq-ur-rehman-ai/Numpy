{
 "cells": [
  {
   "cell_type": "markdown",
   "id": "41b88688-20d2-4362-9e8e-a2be60789db5",
   "metadata": {},
   "source": [
    "# Arithmetic Operation"
   ]
  },
  {
   "cell_type": "code",
   "execution_count": 1,
   "id": "18febc7a-7aae-404f-bcdd-f0d2a28ef7e8",
   "metadata": {},
   "outputs": [],
   "source": [
    "import numpy as np "
   ]
  },
  {
   "cell_type": "markdown",
   "id": "c7fb8aa2-0532-4d59-8392-1b2c728eba41",
   "metadata": {},
   "source": [
    "# Add"
   ]
  },
  {
   "cell_type": "code",
   "execution_count": 2,
   "id": "f421ae32-9eb3-47c2-8ab8-de1bb8aaf88f",
   "metadata": {},
   "outputs": [
    {
     "name": "stdout",
     "output_type": "stream",
     "text": [
      "[ 7  8 11  7]\n"
     ]
    }
   ],
   "source": [
    "var=np.array([2,3,6,2])\n",
    "var_add=var+5\n",
    "print(var_add)"
   ]
  },
  {
   "cell_type": "code",
   "execution_count": 3,
   "id": "4b3869e5-2be8-4d6a-8f26-a402bada9b8f",
   "metadata": {},
   "outputs": [
    {
     "name": "stdout",
     "output_type": "stream",
     "text": [
      "[ 6  8 10 12]\n"
     ]
    }
   ],
   "source": [
    "a1=np.array([1,2,3,4])\n",
    "a2=np.array([5,6,7,8])\n",
    "var1=a1+a2\n",
    "print(var1)"
   ]
  },
  {
   "cell_type": "code",
   "execution_count": 15,
   "id": "88447239-7ff5-42fb-829e-7c4e0823c625",
   "metadata": {},
   "outputs": [
    {
     "name": "stdout",
     "output_type": "stream",
     "text": [
      "[ 6  8 10 12]\n"
     ]
    }
   ],
   "source": [
    "a1=np.array([1,2,3,4])\n",
    "a2=np.array([5,6,7,8])\n",
    "var1=np.add(a1,a2)\n",
    "print(var1)"
   ]
  },
  {
   "cell_type": "markdown",
   "id": "5eae944f-e925-4e96-8eaa-9a02c2a61954",
   "metadata": {},
   "source": [
    "# Sub"
   ]
  },
  {
   "cell_type": "code",
   "execution_count": 4,
   "id": "d6e9d094-2569-487f-b4db-5ff838f395ad",
   "metadata": {},
   "outputs": [
    {
     "name": "stdout",
     "output_type": "stream",
     "text": [
      "[-3 -2  1 -3]\n"
     ]
    }
   ],
   "source": [
    "var=np.array([2,3,6,2])\n",
    "var_sub=var-5\n",
    "print(var_sub)"
   ]
  },
  {
   "cell_type": "code",
   "execution_count": 5,
   "id": "f2373a60-ea4b-4660-87f7-c43a55b7e0a0",
   "metadata": {},
   "outputs": [
    {
     "name": "stdout",
     "output_type": "stream",
     "text": [
      "[-4 -4 -4 -4]\n"
     ]
    }
   ],
   "source": [
    "a1=np.array([1,2,3,4])\n",
    "a2=np.array([5,6,7,8])\n",
    "var1=a1-a2\n",
    "print(var1)"
   ]
  },
  {
   "cell_type": "markdown",
   "id": "724b0f1a-36a9-4ff3-98fa-8c3e00788687",
   "metadata": {},
   "source": [
    "# Multiply"
   ]
  },
  {
   "cell_type": "code",
   "execution_count": 7,
   "id": "dcea2fee-0083-4e32-b624-417f6e0e43f2",
   "metadata": {},
   "outputs": [
    {
     "name": "stdout",
     "output_type": "stream",
     "text": [
      "[10 15 30 10]\n"
     ]
    }
   ],
   "source": [
    "var=np.array([2,3,6,2])\n",
    "var_mul=var*5\n",
    "print(var_mul)"
   ]
  },
  {
   "cell_type": "code",
   "execution_count": 8,
   "id": "17f0f999-8206-4063-b438-59c814c6c516",
   "metadata": {},
   "outputs": [
    {
     "name": "stdout",
     "output_type": "stream",
     "text": [
      "[ 5 12 21 32]\n"
     ]
    }
   ],
   "source": [
    "a1=np.array([1,2,3,4])\n",
    "a2=np.array([5,6,7,8])\n",
    "var1=a1*a2\n",
    "print(var1)"
   ]
  },
  {
   "cell_type": "markdown",
   "id": "64480ff8-f3fb-45cf-982e-43ff6c9ba534",
   "metadata": {},
   "source": [
    "# Divide "
   ]
  },
  {
   "cell_type": "code",
   "execution_count": 10,
   "id": "cdee4979-78fc-4e78-a83d-9330abebb21b",
   "metadata": {},
   "outputs": [
    {
     "name": "stdout",
     "output_type": "stream",
     "text": [
      "[0.4 0.6 1.2 0.4]\n"
     ]
    }
   ],
   "source": [
    "var=np.array([2,3,6,2])\n",
    "var_div=var/5\n",
    "print(var_div)"
   ]
  },
  {
   "cell_type": "code",
   "execution_count": 11,
   "id": "81e6ec56-41c9-42bd-90a3-73561c3de571",
   "metadata": {},
   "outputs": [
    {
     "name": "stdout",
     "output_type": "stream",
     "text": [
      "[0.2        0.33333333 0.42857143 0.5       ]\n"
     ]
    }
   ],
   "source": [
    "a1=np.array([1,2,3,4])\n",
    "a2=np.array([5,6,7,8])\n",
    "var1=a1/a2\n",
    "print(var1)"
   ]
  },
  {
   "cell_type": "markdown",
   "id": "42cb957f-66cc-484f-8861-a7be303cf393",
   "metadata": {},
   "source": [
    "# Modulus"
   ]
  },
  {
   "cell_type": "code",
   "execution_count": 13,
   "id": "516bd68c-f2b9-4f33-8188-ea378f957a8d",
   "metadata": {},
   "outputs": [
    {
     "name": "stdout",
     "output_type": "stream",
     "text": [
      "[0 1 0 0]\n"
     ]
    }
   ],
   "source": [
    "var=np.array([2,3,6,2])\n",
    "var_mod=var%2\n",
    "print(var_mod)"
   ]
  },
  {
   "cell_type": "markdown",
   "id": "2bb2f3db-733a-410a-896a-d1aa4c425b3e",
   "metadata": {},
   "source": [
    "# 2D Array"
   ]
  },
  {
   "cell_type": "code",
   "execution_count": 16,
   "id": "bf42d66e-5422-4167-a017-0afdd76e4e2f",
   "metadata": {},
   "outputs": [
    {
     "name": "stdout",
     "output_type": "stream",
     "text": [
      "[[ 5  5  5  5]\n",
      " [13 13 13 13]]\n"
     ]
    }
   ],
   "source": [
    "x1=np.array([[1,2,3,4],[5,6,7,8]])\n",
    "x2=np.array([[4,3,2,1],[8,7,6,5]])\n",
    "\n",
    "x=x1+x2\n",
    "print(x)\n"
   ]
  },
  {
   "cell_type": "code",
   "execution_count": null,
   "id": "e6c327d3-9f14-491a-98ff-9cb0834d42b8",
   "metadata": {},
   "outputs": [],
   "source": []
  }
 ],
 "metadata": {
  "kernelspec": {
   "display_name": "Python 3 (ipykernel)",
   "language": "python",
   "name": "python3"
  },
  "language_info": {
   "codemirror_mode": {
    "name": "ipython",
    "version": 3
   },
   "file_extension": ".py",
   "mimetype": "text/x-python",
   "name": "python",
   "nbconvert_exporter": "python",
   "pygments_lexer": "ipython3",
   "version": "3.13.0"
  }
 },
 "nbformat": 4,
 "nbformat_minor": 5
}
