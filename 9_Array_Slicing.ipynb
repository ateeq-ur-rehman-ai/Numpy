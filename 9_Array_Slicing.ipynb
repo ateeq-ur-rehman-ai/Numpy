{
 "cells": [
  {
   "cell_type": "markdown",
   "id": "c2a33023-8f68-454c-a18c-e81dbf062e98",
   "metadata": {},
   "source": [
    "# Slicing"
   ]
  },
  {
   "cell_type": "code",
   "execution_count": 8,
   "id": "e804bd6b-c098-42bb-a295-bae566e78ba0",
   "metadata": {},
   "outputs": [],
   "source": [
    "import numpy as np"
   ]
  },
  {
   "cell_type": "code",
   "execution_count": 9,
   "id": "4783f77c-b498-4b8c-9d43-7b30dfeedb00",
   "metadata": {},
   "outputs": [
    {
     "name": "stdout",
     "output_type": "stream",
     "text": [
      "[2 3 4 5]\n"
     ]
    }
   ],
   "source": [
    "var=np.array([1,2,3,4,5,6,7,8,9,10])\n",
    "print(var[1:5])"
   ]
  },
  {
   "cell_type": "code",
   "execution_count": 11,
   "id": "1f0abb41-5534-45c9-a9fe-063b32a58ade",
   "metadata": {},
   "outputs": [
    {
     "name": "stdout",
     "output_type": "stream",
     "text": [
      "[2 3 4 5 6]\n"
     ]
    }
   ],
   "source": [
    "print(var[1:6])"
   ]
  },
  {
   "cell_type": "code",
   "execution_count": 12,
   "id": "8df9658c-97b9-4571-8597-698dea0930c7",
   "metadata": {},
   "outputs": [
    {
     "name": "stdout",
     "output_type": "stream",
     "text": [
      "[1 2 3 4 5 6 7 8]\n"
     ]
    }
   ],
   "source": [
    "print(var[:8])"
   ]
  },
  {
   "cell_type": "code",
   "execution_count": 13,
   "id": "c3a8fd60-a5d7-4a3a-84c3-8df81faba0e2",
   "metadata": {},
   "outputs": [
    {
     "name": "stdout",
     "output_type": "stream",
     "text": [
      "[ 2  3  4  5  6  7  8  9 10]\n"
     ]
    }
   ],
   "source": [
    "print(var[1:])"
   ]
  },
  {
   "cell_type": "code",
   "execution_count": 14,
   "id": "e8787145-3168-4333-912d-fdd6470cec0a",
   "metadata": {},
   "outputs": [
    {
     "name": "stdout",
     "output_type": "stream",
     "text": [
      "[1 2 3 4 5]\n"
     ]
    }
   ],
   "source": [
    "print(var[:5])"
   ]
  },
  {
   "cell_type": "code",
   "execution_count": 18,
   "id": "b0464439-8871-4c4c-a371-96a7acb5e32c",
   "metadata": {},
   "outputs": [
    {
     "name": "stdout",
     "output_type": "stream",
     "text": [
      "[9]\n"
     ]
    }
   ],
   "source": [
    "print(var[-2:-1])"
   ]
  },
  {
   "cell_type": "code",
   "execution_count": 19,
   "id": "98588abb-957c-4b72-8c5f-4c51740d746b",
   "metadata": {},
   "outputs": [
    {
     "name": "stdout",
     "output_type": "stream",
     "text": [
      "[3 4 5 6 7 8]\n"
     ]
    }
   ],
   "source": [
    "print(var[-8:-2])"
   ]
  },
  {
   "cell_type": "markdown",
   "id": "0da7aac1-cf82-46fb-90cd-d5b1de6772a4",
   "metadata": {},
   "source": [
    "# 2D Array"
   ]
  },
  {
   "cell_type": "code",
   "execution_count": 23,
   "id": "7f398475-7b86-45f9-8aef-1bf06cb6ff38",
   "metadata": {},
   "outputs": [
    {
     "name": "stdout",
     "output_type": "stream",
     "text": [
      "[7 8]\n"
     ]
    }
   ],
   "source": [
    "var1 = np.array([[1, 2, 3, 4, 5], [6, 7, 8, 9, 10]])\n",
    "\n",
    "print(var1[1, 1:3])"
   ]
  },
  {
   "cell_type": "code",
   "execution_count": 24,
   "id": "1742fa11-e68e-4db1-b570-e7dbfe7e3e29",
   "metadata": {},
   "outputs": [
    {
     "name": "stdout",
     "output_type": "stream",
     "text": [
      "[ 5 10]\n"
     ]
    }
   ],
   "source": [
    "var1 = np.array([[1, 2, 3, 4, 5], [6, 7, 8, 9, 10]])\n",
    "\n",
    "print(var1[0:2, 4])"
   ]
  },
  {
   "cell_type": "code",
   "execution_count": 25,
   "id": "123cadc9-4ff6-4e2b-a628-c548d0c02776",
   "metadata": {},
   "outputs": [
    {
     "name": "stdout",
     "output_type": "stream",
     "text": [
      "[[2 3 4]\n",
      " [7 8 9]]\n"
     ]
    }
   ],
   "source": [
    "arr = np.array([[1, 2, 3, 4, 5], [6, 7, 8, 9, 10]])\n",
    "\n",
    "print(arr[0:2, 1:4])"
   ]
  },
  {
   "cell_type": "code",
   "execution_count": 26,
   "id": "6a3bec79-93b8-4c1c-b2cd-6067868271a9",
   "metadata": {},
   "outputs": [
    {
     "name": "stdout",
     "output_type": "stream",
     "text": [
      "[1 2]\n"
     ]
    }
   ],
   "source": [
    "arr = np.array([1, 2, 3, 4, 5, 6, 7])\n",
    "print(arr[:2])"
   ]
  },
  {
   "cell_type": "code",
   "execution_count": null,
   "id": "8de5919e-0caf-4842-a68e-dc87547322f7",
   "metadata": {},
   "outputs": [],
   "source": []
  }
 ],
 "metadata": {
  "kernelspec": {
   "display_name": "Python 3 (ipykernel)",
   "language": "python",
   "name": "python3"
  },
  "language_info": {
   "codemirror_mode": {
    "name": "ipython",
    "version": 3
   },
   "file_extension": ".py",
   "mimetype": "text/x-python",
   "name": "python",
   "nbconvert_exporter": "python",
   "pygments_lexer": "ipython3",
   "version": "3.13.0"
  }
 },
 "nbformat": 4,
 "nbformat_minor": 5
}
