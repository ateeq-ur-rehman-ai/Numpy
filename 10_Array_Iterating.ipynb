{
 "cells": [
  {
   "cell_type": "markdown",
   "id": "8b80b03e-05a8-40d4-9707-a1e8c7ff08cf",
   "metadata": {},
   "source": [
    "# Iteration "
   ]
  },
  {
   "cell_type": "code",
   "execution_count": 1,
   "id": "63644d46-592d-482f-8edb-6c6f8b339256",
   "metadata": {},
   "outputs": [],
   "source": [
    "import numpy as np"
   ]
  },
  {
   "cell_type": "code",
   "execution_count": 3,
   "id": "58eeaa2a-0025-476e-bd2b-3aad9d198de8",
   "metadata": {},
   "outputs": [
    {
     "name": "stdout",
     "output_type": "stream",
     "text": [
      "[1 2 3 4 5 6]\n",
      "1\n",
      "2\n",
      "3\n",
      "4\n",
      "5\n",
      "6\n"
     ]
    }
   ],
   "source": [
    "var=np.array([1,2,3,4,5,6])\n",
    "print(var)\n",
    "\n",
    "for i in var:\n",
    "    print(i)"
   ]
  },
  {
   "cell_type": "code",
   "execution_count": 5,
   "id": "b967aa26-9596-41a0-9630-f9a4b0eb017d",
   "metadata": {},
   "outputs": [
    {
     "name": "stdout",
     "output_type": "stream",
     "text": [
      "[[32  4  2 32 57]\n",
      " [ 3  4 73 57  8]]\n",
      "\n",
      "[32  4  2 32 57]\n",
      "[ 3  4 73 57  8]\n",
      "32\n",
      "4\n",
      "2\n",
      "32\n",
      "57\n",
      "3\n",
      "4\n",
      "73\n",
      "57\n",
      "8\n"
     ]
    }
   ],
   "source": [
    "var1=np.array([[32,4,2,32,57],[3,4,73,57,8]])\n",
    "print(var1)\n",
    "print()\n",
    "\n",
    "for i in var1:\n",
    "    print(i)\n",
    "\n",
    "for k in var1:\n",
    "    for j in k :\n",
    "        print(j)"
   ]
  },
  {
   "cell_type": "code",
   "execution_count": 6,
   "id": "c00a8eed-f1fe-4d15-809c-a8c85f221a9f",
   "metadata": {},
   "outputs": [
    {
     "name": "stdout",
     "output_type": "stream",
     "text": [
      "[[[ 2  3  1  3  5]\n",
      "  [ 3  6 85 25  2]\n",
      "  [ 3 34  8  1  7]]]\n",
      "2\n",
      "3\n",
      "1\n",
      "3\n",
      "5\n",
      "3\n",
      "6\n",
      "85\n",
      "25\n",
      "2\n",
      "3\n",
      "34\n",
      "8\n",
      "1\n",
      "7\n"
     ]
    }
   ],
   "source": [
    "var2=np.array([[[2,3,1,3,5],[3,6,85,25,2],[3,34,8,1,7]]])\n",
    "print(var2)\n",
    "\n",
    "for i in var2:\n",
    "    for j in i:\n",
    "        for k in j:\n",
    "            print(k)"
   ]
  },
  {
   "cell_type": "code",
   "execution_count": 7,
   "id": "db514a0e-0d97-41a6-9ee5-bbb0b1fe458c",
   "metadata": {},
   "outputs": [
    {
     "name": "stdout",
     "output_type": "stream",
     "text": [
      "[[[ 2  3  1  3  5]\n",
      "  [ 3  6 85 25  2]\n",
      "  [ 3 34  8  1  7]]]\n",
      "2\n",
      "3\n",
      "1\n",
      "3\n",
      "5\n",
      "3\n",
      "6\n",
      "85\n",
      "25\n",
      "2\n",
      "3\n",
      "34\n",
      "8\n",
      "1\n",
      "7\n"
     ]
    }
   ],
   "source": [
    "var2=np.array([[[2,3,1,3,5],[3,6,85,25,2],[3,34,8,1,7]]])\n",
    "print(var2)\n",
    "\n",
    "for i in np.nditer(var2):\n",
    "    print(i)"
   ]
  },
  {
   "cell_type": "code",
   "execution_count": 9,
   "id": "5824864b-77f0-4aa4-a6ee-7d7e05f93e61",
   "metadata": {},
   "outputs": [
    {
     "name": "stdout",
     "output_type": "stream",
     "text": [
      "[[[ 2  3  1  3  5]\n",
      "  [ 3  6 85 25  2]\n",
      "  [ 3 34  8  1  7]]]\n",
      "np.bytes_(b'2')\n",
      "np.bytes_(b'3')\n",
      "np.bytes_(b'1')\n",
      "np.bytes_(b'3')\n",
      "np.bytes_(b'5')\n",
      "np.bytes_(b'3')\n",
      "np.bytes_(b'6')\n",
      "np.bytes_(b'85')\n",
      "np.bytes_(b'25')\n",
      "np.bytes_(b'2')\n",
      "np.bytes_(b'3')\n",
      "np.bytes_(b'34')\n",
      "np.bytes_(b'8')\n",
      "np.bytes_(b'1')\n",
      "np.bytes_(b'7')\n"
     ]
    }
   ],
   "source": [
    "var2=np.array([[[2,3,1,3,5],[3,6,85,25,2],[3,34,8,1,7]]])\n",
    "print(var2)\n",
    "\n",
    "for i in np.nditer(var2, flags=['buffered'], op_dtypes=['S']):\n",
    "    print(i)"
   ]
  },
  {
   "cell_type": "code",
   "execution_count": 12,
   "id": "bdd0ba52-9af3-48fb-80af-6c4cbb72e794",
   "metadata": {},
   "outputs": [
    {
     "name": "stdout",
     "output_type": "stream",
     "text": [
      "[[[ 2  3  1  3  5]\n",
      "  [ 3  6 85 25  2]\n",
      "  [ 3 34  8  1  7]]]\n",
      "(0, 0, 0) 2\n",
      "(0, 0, 1) 3\n",
      "(0, 0, 2) 1\n",
      "(0, 0, 3) 3\n",
      "(0, 0, 4) 5\n",
      "(0, 1, 0) 3\n",
      "(0, 1, 1) 6\n",
      "(0, 1, 2) 85\n",
      "(0, 1, 3) 25\n",
      "(0, 1, 4) 2\n",
      "(0, 2, 0) 3\n",
      "(0, 2, 1) 34\n",
      "(0, 2, 2) 8\n",
      "(0, 2, 3) 1\n",
      "(0, 2, 4) 7\n"
     ]
    }
   ],
   "source": [
    "var2=np.array([[[2,3,1,3,5],[3,6,85,25,2],[3,34,8,1,7]]])\n",
    "print(var2)\n",
    "\n",
    "for i,d in np.ndenumerate(var2):\n",
    "    print(i,d)"
   ]
  },
  {
   "cell_type": "code",
   "execution_count": null,
   "id": "1e41f68e-2321-4df7-9722-8c73a73e5a1d",
   "metadata": {},
   "outputs": [],
   "source": []
  }
 ],
 "metadata": {
  "kernelspec": {
   "display_name": "Python 3 (ipykernel)",
   "language": "python",
   "name": "python3"
  },
  "language_info": {
   "codemirror_mode": {
    "name": "ipython",
    "version": 3
   },
   "file_extension": ".py",
   "mimetype": "text/x-python",
   "name": "python",
   "nbconvert_exporter": "python",
   "pygments_lexer": "ipython3",
   "version": "3.13.0"
  }
 },
 "nbformat": 4,
 "nbformat_minor": 5
}
